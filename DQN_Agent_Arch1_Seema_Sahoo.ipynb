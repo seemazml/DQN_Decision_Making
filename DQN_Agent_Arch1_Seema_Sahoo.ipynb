{
  "nbformat": 4,
  "nbformat_minor": 0,
  "metadata": {
    "kernelspec": {
      "display_name": "Python 3",
      "language": "python",
      "name": "python3"
    },
    "language_info": {
      "codemirror_mode": {
        "name": "ipython",
        "version": 3
      },
      "file_extension": ".py",
      "mimetype": "text/x-python",
      "name": "python",
      "nbconvert_exporter": "python",
      "pygments_lexer": "ipython3",
      "version": "3.8.3"
    },
    "colab": {
      "provenance": [],
      "include_colab_link": true
    }
  },
  "cells": [
    {
      "cell_type": "markdown",
      "metadata": {
        "id": "view-in-github",
        "colab_type": "text"
      },
      "source": [
        "<a href=\"https://colab.research.google.com/github/seemazml/DQN_Decision_Making/blob/main/DQN_Agent_Arch1_Seema_Sahoo.ipynb\" target=\"_parent\"><img src=\"https://colab.research.google.com/assets/colab-badge.svg\" alt=\"Open In Colab\"/></a>"
      ]
    },
    {
      "cell_type": "markdown",
      "metadata": {
        "id": "b0CX29QcthmS"
      },
      "source": [
        "### Cab-Driver Agent"
      ]
    },
    {
      "cell_type": "code",
      "metadata": {
        "id": "sLo4bWIithmT",
        "outputId": "892832f0-f190-49dd-99bb-1922903a1907",
        "colab": {
          "base_uri": "https://localhost:8080/",
          "height": 339
        }
      },
      "source": [
        "# Importing libraries\n",
        "import numpy as np\n",
        "import random\n",
        "import math\n",
        "from collections import deque\n",
        "import collections\n",
        "import pickle\n",
        "import time\n",
        "\n",
        "# for building DQN model\n",
        "from keras import layers\n",
        "from keras import Sequential\n",
        "from keras.layers import Dense, Activation, Flatten\n",
        "from keras.optimizers import Adam\n",
        "\n",
        "# for plotting graphs\n",
        "import matplotlib.pyplot as plt\n",
        "\n",
        "# Import the environment\n",
        "import Env"
      ],
      "execution_count": null,
      "outputs": [
        {
          "output_type": "error",
          "ename": "ModuleNotFoundError",
          "evalue": "ignored",
          "traceback": [
            "\u001b[0;31m---------------------------------------------------------------------------\u001b[0m",
            "\u001b[0;31mModuleNotFoundError\u001b[0m                       Traceback (most recent call last)",
            "\u001b[0;32m<ipython-input-1-7fdb100d7d3e>\u001b[0m in \u001b[0;36m<cell line: 20>\u001b[0;34m()\u001b[0m\n\u001b[1;32m     18\u001b[0m \u001b[0;34m\u001b[0m\u001b[0m\n\u001b[1;32m     19\u001b[0m \u001b[0;31m# Import the environment\u001b[0m\u001b[0;34m\u001b[0m\u001b[0;34m\u001b[0m\u001b[0m\n\u001b[0;32m---> 20\u001b[0;31m \u001b[0;32mimport\u001b[0m \u001b[0mEnv\u001b[0m\u001b[0;34m\u001b[0m\u001b[0;34m\u001b[0m\u001b[0m\n\u001b[0m",
            "\u001b[0;31mModuleNotFoundError\u001b[0m: No module named 'Env'",
            "",
            "\u001b[0;31m---------------------------------------------------------------------------\u001b[0;32m\nNOTE: If your import is failing due to a missing package, you can\nmanually install dependencies using either !pip or !apt.\n\nTo view examples of installing some common dependencies, click the\n\"Open Examples\" button below.\n\u001b[0;31m---------------------------------------------------------------------------\u001b[0m\n"
          ],
          "errorDetails": {
            "actions": [
              {
                "action": "open_url",
                "actionText": "Open Examples",
                "url": "/notebooks/snippets/importing_libraries.ipynb"
              }
            ]
          }
        }
      ]
    },
    {
      "cell_type": "code",
      "metadata": {
        "id": "KtNyqTr8ws59"
      },
      "source": [
        "from Env import CabDriver"
      ],
      "execution_count": null,
      "outputs": []
    },
    {
      "cell_type": "markdown",
      "metadata": {
        "id": "-XVOxb2jthmU"
      },
      "source": [
        "#### Defining Time Matrix"
      ]
    },
    {
      "cell_type": "code",
      "metadata": {
        "id": "KZ9cjOs7thmU"
      },
      "source": [
        "# Loading the time matrix provided\n",
        "Time_matrix = np.load(\"TM.npy\")"
      ],
      "execution_count": null,
      "outputs": []
    },
    {
      "cell_type": "markdown",
      "metadata": {
        "id": "_qnS64ymthmU"
      },
      "source": [
        "#### Tracking the state-action pairs for checking convergence\n"
      ]
    },
    {
      "cell_type": "code",
      "metadata": {
        "id": "Qe5_tW0BthmV"
      },
      "source": [
        "def encode_track_state(state):\n",
        "    return ('-'.join(str(e) for e in state))"
      ],
      "execution_count": null,
      "outputs": []
    },
    {
      "cell_type": "code",
      "metadata": {
        "id": "SAAP6k1LthmV"
      },
      "source": [
        "def encode_track_action(action):\n",
        "    return ('-'.join(str(e) for e in action))"
      ],
      "execution_count": null,
      "outputs": []
    },
    {
      "cell_type": "code",
      "metadata": {
        "id": "0-KEYz00thmW"
      },
      "source": [
        "# Tracking q-values for all possible moves from position 2 at the start of the episode\n",
        "def initialise_tracking_states(episodes):\n",
        "    sample_q_values = [('2-0-0', '1-2'), ('2-0-0', '2-1'), ('2-0-0', '1-3'), ('2-0-0', '3-1'), ('2-0-0', '1-4'), ('2-0-0', '4-1'), ('2-0-0', '1-5'), ('2-0-0', '5-1'), \n",
        "                       ('2-0-0', '2-3'), ('2-0-0', '3-2'), ('2-0-0', '2-4'), ('2-0-0', '4-2'), ('2-0-0', '2-5'), ('2-0-0', '5-2'), \n",
        "                       ('2-0-0', '3-4'), ('2-0-0', '4-3'), ('2-0-0', '3-5'), ('2-0-0', '5-3'), \n",
        "                       ('2-0-0', '4-5'), ('2-0-0', '5-4'), ('2-0-0', '0-0')]    \n",
        "    for q_value in sample_q_values:\n",
        "        state = q_value[0]\n",
        "        action = q_value[1]\n",
        "        States_track[state][action] = []"
      ],
      "execution_count": null,
      "outputs": []
    },
    {
      "cell_type": "code",
      "metadata": {
        "id": "W-wON60RthmW"
      },
      "source": [
        "# Function to save q-value for tracking states-action pair\n",
        "def save_tracking_states(curr_state, curr_action, curr_q_value):\n",
        "    for state in States_track.keys():\n",
        "        if state == curr_state:\n",
        "            for action in States_track[state].keys():\n",
        "                if action == curr_action:\n",
        "                    States_track[state][action].append(curr_q_value)"
      ],
      "execution_count": null,
      "outputs": []
    },
    {
      "cell_type": "code",
      "metadata": {
        "id": "WeScP3ThthmX"
      },
      "source": [
        "#Defining a function to save the Q-dictionary as a pickle file\n",
        "def save_obj(obj, name ):\n",
        "    with open(name + '.pkl', 'wb') as f:\n",
        "        pickle.dump(obj, f, pickle.HIGHEST_PROTOCOL)"
      ],
      "execution_count": null,
      "outputs": []
    },
    {
      "cell_type": "markdown",
      "metadata": {
        "id": "uPwkPKJythmX"
      },
      "source": [
        "### Agent Class\n",
        "\n",
        "If you are using this framework, you need to fill the following to complete the following code block:\n",
        "1. State and Action Size\n",
        "2. Hyperparameters\n",
        "3. Create a neural-network model in function 'build_model()'\n",
        "4. Define epsilon-greedy strategy in function 'get_action()'\n",
        "5. Complete the function 'append_sample()'. This function appends the recent experience tuple <state, action, reward, new-state> to the memory\n",
        "6. Complete the 'train_model()' function with following logic:\n",
        "   - If the memory size is greater than mini-batch size, you randomly sample experiences from memory as per the mini-batch size and do the following:\n",
        "      - Initialise your input and output batch for training the model\n",
        "      - Calculate the target Q value for each sample: reward + gamma*max(Q(s'a,))\n",
        "      - Get Q(s', a) values from the last trained model\n",
        "      - Update the input batch as your encoded state and output batch as your Q-values\n",
        "      - Then fit your DQN model using the updated input and output batch."
      ]
    },
    {
      "cell_type": "code",
      "metadata": {
        "id": "y7j_JMkEthmX"
      },
      "source": [
        "class DQNAgent:\n",
        "    def __init__(self, state_size, action_size):\n",
        "        # Define size of state and action\n",
        "        self.state_size = state_size\n",
        "        self.action_size = action_size\n",
        "\n",
        "        # Write here: Specify you hyper parameters for the DQN\n",
        "        self.discount_factor = 0.95\n",
        "        self.learning_rate = 0.001 \n",
        "        self.epsilon = 1\n",
        "        self.epsilon_max = 1\n",
        "        self.epsilon_decay = -0.00005\n",
        "        self.epsilon_min = 0.0000001\n",
        "        \n",
        "        self.batch_size = 200        \n",
        "        # create replay memory using deque\n",
        "        self.memory = deque(maxlen=2000)\n",
        "        \n",
        "        # Initialize the value of the states tracked\n",
        "        self.states_tracked = []\n",
        "        \n",
        "        # We are going to track state [0,0,0] and action (0,2) at index 2 in the action space.\n",
        "        self.track_state = np.array(env.state_encod_arch1([0,0,0])).reshape(1, 36)\n",
        "\n",
        "        # create main model and target model\n",
        "        self.model = self.build_model()\n",
        "\n",
        "    # approximate Q function using Neural Network\n",
        "    def build_model(self):\n",
        "        model = Sequential()\n",
        "        # Write your code here: Add layers to your neural nets       \n",
        "        model.add(Dense(32, input_dim=self.state_size, activation='relu', kernel_initializer='he_uniform'))\n",
        "        model.add(Dense(32, activation='relu', kernel_initializer='he_uniform'))\n",
        "        # the output layer: output is of size num_actions\n",
        "        model.add(Dense(self.action_size, activation='relu', kernel_initializer='he_uniform'))\n",
        "        model.compile(loss='mse',optimizer=Adam(lr=self.learning_rate))\n",
        "        model.summary\n",
        "        return model\n",
        "\n",
        "\n",
        "\n",
        "    def get_action(self, state, possible_actions_index, actions):\n",
        "        # get action from model using epsilon-greedy policy\n",
        "        # Decay in ε after we generate each sample from the environment  \n",
        "        \n",
        "        if np.random.rand() <= self.epsilon:\n",
        "            # explore: choose a random action from the ride requests\n",
        "            return random.choice(possible_actions_index)\n",
        "        else:\n",
        "            # choose the action with the highest q(s, a)\n",
        "            # the first index corresponds to the batch size, so\n",
        "            # reshape state to (1, state_size) so that the first index corresponds to the batch size\n",
        "            state = np.array(env.state_encod_arch1(state)).reshape(1, 36)\n",
        "\n",
        "            # Use the model to predict the Q_values.\n",
        "            q_value = self.model.predict(state)\n",
        "\n",
        "            # truncate the array to only those actions that are part of the ride  requests.\n",
        "            q_vals_possible = [q_value[0][i] for i in possible_actions_index]\n",
        "\n",
        "            return possible_actions_index[np.argmax(q_vals_possible)]    \n",
        "        \n",
        "        \n",
        "    def append_sample(self, state, action_index, reward, next_state, done):\n",
        "    # Write your code here:\n",
        "    # save sample <s,a,r,s'> to the replay memory\n",
        "        self.memory.append((state, action_index, reward, next_state, done))\n",
        "    \n",
        "    \n",
        "    # pick samples randomly from replay memory (with batch_size) and train the network\n",
        "    def train_model(self):\n",
        "        \n",
        "        if len(self.memory) > self.batch_size:\n",
        "            # Sample batch from the memory\n",
        "            mini_batch = random.sample(self.memory, self.batch_size)\n",
        "            update_output = np.zeros((self.batch_size, self.state_size))\n",
        "            update_input = np.zeros((self.batch_size, self.state_size))\n",
        "            \n",
        "            actions, rewards = [], []\n",
        "            done =[]\n",
        "            \n",
        "            for i in range(self.batch_size):\n",
        "                state, action, reward, next_state, done_boolean = mini_batch[i]\n",
        "                \n",
        "                # Write your code from here\n",
        "                # 1. Predict the target from earlier model\n",
        "                update_input[i] = env.state_encod_arch1(state)     \n",
        "                actions.append(action)\n",
        "                rewards.append(reward)\n",
        "                update_output[i] = env.state_encod_arch1(next_state)\n",
        "                done.append(done_boolean)\n",
        "                \n",
        "            target = self.model.predict(update_input)\n",
        "                \n",
        "            # 2. Get the target for the Q-network\n",
        "            target_qval = self.model.predict(update_output)\n",
        "\n",
        "                \n",
        "            #3. Update your 'update_output' and 'update_input' batch\n",
        "\n",
        "            for i in range(self.batch_size):\n",
        "                if done[i]:\n",
        "                    target[i][actions[i]] = rewards[i]\n",
        "                else: # non-terminal state\n",
        "                    target[i][actions[i]] = rewards[i] + self.discount_factor * np.max(target_qval[i])\n",
        "                \n",
        "        # 4. Fit your model and track the loss values\n",
        "            self.model.fit(update_input, target, batch_size=self.batch_size, epochs=1, verbose=0)\n",
        "\n",
        "    def save(self, name):\n",
        "        self.model.save_weights(name)\n",
        "        #with open(name, 'wb') as file:  \n",
        "         #   pickle.dump(self.model, file,pickle.HIGHEST_PROTOCOL)\n",
        "    \n",
        "    def save_tracking_states(self):\n",
        "        # Use the model to predict the q_value of the state we are tacking.\n",
        "        q_value = self.model.predict(self.track_state)\n",
        "        \n",
        "        # Grab the q_value of the action index that we are tracking.\n",
        "        self.states_tracked.append(q_value[0][2])\n",
        "        \n",
        "    def save_test_states(self):\n",
        "        # Use the model to predict the q_value of the state we are tacking.\n",
        "        q_value = self.model.predict(self.track_state)\n",
        "        \n",
        "        # Grab the q_value of the action index that we are tracking.\n",
        "        self.states_test.append(q_value[0][2])"
      ],
      "execution_count": null,
      "outputs": []
    },
    {
      "cell_type": "code",
      "metadata": {
        "id": "ZizrcikQthmY"
      },
      "source": [
        "episode_time = 24*30 #30 days before which car has to be recharged\n",
        "Episodes = 20000\n",
        "#Episodes = 50\n",
        "m = 5\n",
        "t = 24\n",
        "d = 7\n",
        "\n",
        "# Invoke Env class\n",
        "env = CabDriver()\n",
        "action_space, state_space, state = env.reset()\n",
        "\n",
        "# Set up state and action sizes.\n",
        "state_size = m+t+d\n",
        "action_size = len(action_space)\n",
        "\n",
        "# Invoke agent class\n",
        "agent = DQNAgent(action_size=action_size, state_size=state_size)\n",
        "\n",
        "# to store rewards in each episode\n",
        "rewards_per_episode, episodes = [], []\n",
        "# Rewards for state [0,0,0] being tracked.\n",
        "rewards_init_state = []"
      ],
      "execution_count": null,
      "outputs": []
    },
    {
      "cell_type": "markdown",
      "metadata": {
        "id": "k-0uFo6VthmZ"
      },
      "source": [
        "### DQN block"
      ]
    },
    {
      "cell_type": "code",
      "metadata": {
        "id": "b0EmfSRethmZ"
      },
      "source": [
        "start_time = time.time()\n",
        "score_tracked = []\n",
        "\n",
        "for episode in range(Episodes):\n",
        "\n",
        "    # Write code here\n",
        "    # Call the environment\n",
        "    # Call all the initialised variables of the environment\n",
        "    terminal_state = False\n",
        "    score = 0\n",
        "    track_reward = False\n",
        "    \n",
        "    env = CabDriver()\n",
        "    action_space, state_space, state = env.reset()\n",
        "    # Save the initial state so that reward can be tracked if initial state is [0,0,0]\n",
        "    initial_state = env.state_init\n",
        "\n",
        "\n",
        "    total_time = 0  # Total time driver rode in this episode\n",
        "\n",
        "    #Call the DQN agent\n",
        "    \n",
        "    count = 0\n",
        "    while not terminal_state:\n",
        "        \n",
        "        count += 1\n",
        "        \n",
        "        # 1. Get a list of the ride requests driver got.\n",
        "        possible_actions_indices, actions = env.requests(state)\n",
        "        \n",
        "        # 2. Pick epsilon-greedy action from possible actions for the current state.\n",
        "        action = agent.get_action(state, possible_actions_indices, actions)\n",
        "\n",
        "        # 3. Evaluate your reward and next state\n",
        "        reward, next_state, step_time = env.step(state, env.action_space[action], Time_matrix)\n",
        "        # 4. Total time driver rode in this episode\n",
        "        total_time += step_time\n",
        "        if (total_time > episode_time):\n",
        "            # if ride does not complete in stipu;ated time skip\n",
        "            # it and move to next episode.\n",
        "            terminal_state = True\n",
        "        else:\n",
        "            # 5. Append the experience to the memory\n",
        "            agent.append_sample(state, action, reward, next_state, terminal_state)\n",
        "            \n",
        "            # 6. Train the model by calling function agent.train_model\n",
        "            if (count % 20 == 0):\n",
        "                agent.train_model()\n",
        "                \n",
        "            # 7. Keep a track of rewards, Q-values, loss\n",
        "            score += reward\n",
        "            state = next_state\n",
        "\n",
        "    # store total reward obtained in this episode\n",
        "    rewards_per_episode.append(score)\n",
        "    episodes.append(episode)\n",
        "    \n",
        "\n",
        "    # epsilon decay\n",
        "    agent.epsilon = (1 - 0.00001) * np.exp(agent.epsilon_decay * episode)\n",
        "\n",
        "    # every 10 episodes:\n",
        "    if ((episode + 1) % 10 == 0):\n",
        "        print(\"episode {0}, reward {1}, memory_length {2}, epsilon {3} total_time {4}\".format(episode,\n",
        "                                                                         score,\n",
        "                                                                         len(agent.memory),\n",
        "                                                                         agent.epsilon, total_time))\n",
        "    # Save the Q_value of the state, action pair we are tracking\n",
        "    if ((episode + 1) % 5 == 0):\n",
        "        agent.save_tracking_states()\n",
        "\n",
        "    # Total rewards per episode\n",
        "    score_tracked.append(score)\n",
        "\n",
        "    if(episode % 10000 == 0):\n",
        "        print(\"Saving Model {}\".format(episode))\n",
        "        agent.save(name=\"model_weights.pkl\")\n",
        "    \n",
        "elapsed_time = time.time() - start_time\n",
        "print(elapsed_time)\n",
        "        "
      ],
      "execution_count": null,
      "outputs": []
    },
    {
      "cell_type": "code",
      "metadata": {
        "id": "rxISlpkzthma"
      },
      "source": [
        "### agent.save(name=\"model_weights.pkl\")"
      ],
      "execution_count": null,
      "outputs": []
    },
    {
      "cell_type": "markdown",
      "metadata": {
        "id": "Y_EZsxj8thmb"
      },
      "source": [
        "#### Tracking Convergence"
      ]
    },
    {
      "cell_type": "code",
      "metadata": {
        "id": "xQypjZ2Ithmb"
      },
      "source": [
        "agent.states_tracked"
      ],
      "execution_count": null,
      "outputs": []
    },
    {
      "cell_type": "code",
      "metadata": {
        "id": "mHcAMX4Xthmc"
      },
      "source": [
        "state_tracked_sample = [agent.states_tracked[i] for i in range(len(agent.states_tracked)) if agent.states_tracked[i] < 1000]"
      ],
      "execution_count": null,
      "outputs": []
    },
    {
      "cell_type": "raw",
      "metadata": {
        "id": "r6RlAZsMthmc"
      },
      "source": [
        "### Plot the Q-Value convergence for state action pairs"
      ]
    },
    {
      "cell_type": "raw",
      "metadata": {
        "id": "jBogXzB8thmc"
      },
      "source": [
        "plt.figure(0, figsize=(16,7))\n",
        "plt.title('Q_value for state [0,0,0]  action (0,2)')\n",
        "xaxis = np.asarray(range(0, len(agent.states_tracked)))\n",
        "plt.semilogy(xaxis,np.asarray(agent.states_tracked))\n",
        "plt.show()"
      ]
    },
    {
      "cell_type": "markdown",
      "metadata": {
        "id": "U4NgBn4wthmc"
      },
      "source": [
        "### Track rewards per episode."
      ]
    },
    {
      "cell_type": "code",
      "metadata": {
        "id": "QemObB2Qthmd"
      },
      "source": [
        "score_tracked_sample = [score_tracked[i] for i in range(len(score_tracked)) if (i % 4 == 0)]\n",
        "\n",
        "plt.figure(0, figsize=(16,7))\n",
        "plt.title('Rewards per episode')\n",
        "xaxis = np.asarray(range(0, len(score_tracked_sample)))\n",
        "plt.plot(xaxis,np.asarray(score_tracked_sample))\n",
        "plt.show()"
      ],
      "execution_count": null,
      "outputs": []
    },
    {
      "cell_type": "markdown",
      "metadata": {
        "id": "HcRRArTQthmd"
      },
      "source": [
        "#### Epsilon-decay sample function"
      ]
    },
    {
      "cell_type": "raw",
      "metadata": {
        "id": "RsQNXjo9thmd"
      },
      "source": [
        "<div class=\"alert alert-block alert-info\">\n",
        "Try building a similar epsilon-decay function for your model.\n",
        "</div>"
      ]
    },
    {
      "cell_type": "markdown",
      "metadata": {
        "id": "rPm60kj5thme"
      },
      "source": [
        "# time = np.arange(0,20000)\n",
        "epsilon = []\n",
        "for i in range(0,20000):\n",
        "    epsilon.append((1 - 0.01) * np.exp(0.999 * i))"
      ]
    },
    {
      "cell_type": "code",
      "metadata": {
        "id": "WTjruXsBthme"
      },
      "source": [
        "plt.plot(time, epsilon)\n",
        "plt.show()"
      ],
      "execution_count": null,
      "outputs": []
    },
    {
      "cell_type": "code",
      "metadata": {
        "id": "Z6jf8SV4thme"
      },
      "source": [],
      "execution_count": null,
      "outputs": []
    }
  ]
}